{
 "cells": [
  {
   "cell_type": "code",
   "execution_count": null,
   "metadata": {},
   "outputs": [],
   "source": [
    "def greet_user(username):\n",
    "    \"\"\"Display a simple greeting.\"\"\"\n",
    "    print(f\"Hello, {username.title()}!\")\n",
    "greet_user('jesse')"
   ]
  },
  {
   "cell_type": "code",
   "execution_count": null,
   "metadata": {},
   "outputs": [],
   "source": [
    "import numpy as np "
   ]
  },
  {
   "cell_type": "code",
   "execution_count": 36,
   "metadata": {},
   "outputs": [],
   "source": [
    "import json\n",
    "\n",
    "tweets = []\n",
    "for line in open('data.json', 'r'):\n",
    "    tweets.append(json.loads(line))\n"
   ]
  },
  {
   "cell_type": "code",
   "execution_count": 23,
   "metadata": {},
   "outputs": [
    {
     "data": {
      "text/plain": [
       "['دکتر نوروزی بعد از ۲۴ سال فعالیت در استقلال در آستانه جدایی است \\n\\nبهرام امیری استعفا می\\u200cدهد \\n\\nصحبت از ناراحتی مجیدی از برخی مسائل در این باشگاه می\\u200cشود \\n\\nدانشیار مترجم استراماچونی می\\u200cگوید افرادی کنار استقلال هستند که دوباره پایشان به این باشگاه باز شده \\n\\nدر استقلال چه خبر است که همه از دخالت افراد خاص در این باشگاه ناراضی هستند؟ \\n\\nچرا خائنین سابق هیات مدیره هم چنان از فعالین این باشگاه هستند؟ \\n\\n🆔 @EsteghlalPage']"
      ]
     },
     "execution_count": 23,
     "metadata": {},
     "output_type": "execute_result"
    }
   ],
   "source": [
    "import csv\n",
    "fields=['tweet']\n",
    "\n",
    "list_of_elem = []\n",
    "for t in range(len(tweets)):\n",
    "    data_tweet = [tweets[t]['text']]\n",
    "    list_of_elem.append(data_tweet)\n",
    "    \n",
    "with open('xyz.csv', 'wb') as outfile:\n",
    "    w = csv.writer(outfile)\n",
    "    \n",
    "    for li in list_of_elem:\n",
    "        li = bytes(li, 'utf-8')\n",
    "        print(li)\n",
    "        w.writerow(li)\n",
    "           \n",
    "        \n",
    "        \n"
   ]
  },
  {
   "cell_type": "code",
   "execution_count": 18,
   "metadata": {},
   "outputs": [
    {
     "data": {
      "text/plain": [
       "'الان حصریا \\n#قتلک_یااحمد_باطل 🇮🇶 https: //t. co/۲W۶۹Jayho۹'"
      ]
     },
     "execution_count": 18,
     "metadata": {},
     "output_type": "execute_result"
    }
   ],
   "source": [
    "myList = []\n",
    "for line in list_of_elem:\n",
    "\n",
    "    myList.append('\\t'.join([line.strip()]))\n",
    "    \n"
   ]
  },
  {
   "cell_type": "code",
   "execution_count": 51,
   "metadata": {},
   "outputs": [],
   "source": [
    "with open(\"twitter.csv\", \"a\") as fp:\n",
    "    import csv\n",
    "    list_of_elem = []\n",
    "    writer = csv.writer(fp)\n",
    "    writer.writerow((['tweet'],['vote']))\n",
    "    for t in range(len(tweets)):\n",
    "        data_tweet,data_vote = [tweets[t]['text']], [[tweets[t]['vote']]]\n",
    "        \n",
    "\n",
    "        writer.writerow((data_tweet,data_vote))\n",
    "        \n",
    "    "
   ]
  },
  {
   "cell_type": "code",
   "execution_count": 44,
   "metadata": {},
   "outputs": [
    {
     "data": {
      "text/plain": [
       "('دکتر نوروزی بعد از ۲۴ سال فعالیت در استقلال در آستانه جدایی است \\n\\nبهرام امیری استعفا می\\u200cدهد \\n\\nصحبت از ناراحتی مجیدی از برخی مسائل در این باشگاه می\\u200cشود \\n\\nدانشیار مترجم استراماچونی می\\u200cگوید افرادی کنار استقلال هستند که دوباره پایشان به این باشگاه باز شده \\n\\nدر استقلال چه خبر است که همه از دخالت افراد خاص در این باشگاه ناراضی هستند؟ \\n\\nچرا خائنین سابق هیات مدیره هم چنان از فعالین این باشگاه هستند؟ \\n\\n🆔 @EsteghlalPage',\n",
       " '1')"
      ]
     },
     "execution_count": 44,
     "metadata": {},
     "output_type": "execute_result"
    }
   ],
   "source": [
    "tweets[0]['text'],tweets[0]['vote']"
   ]
  },
  {
   "cell_type": "code",
   "execution_count": null,
   "metadata": {},
   "outputs": [],
   "source": [
    "\n",
    "    "
   ]
  },
  {
   "cell_type": "code",
   "execution_count": null,
   "metadata": {},
   "outputs": [],
   "source": []
  }
 ],
 "metadata": {
  "kernelspec": {
   "display_name": "Python 3",
   "language": "python",
   "name": "python3"
  },
  "language_info": {
   "codemirror_mode": {
    "name": "ipython",
    "version": 3
   },
   "file_extension": ".py",
   "mimetype": "text/x-python",
   "name": "python",
   "nbconvert_exporter": "python",
   "pygments_lexer": "ipython3",
   "version": "3.6.9"
  }
 },
 "nbformat": 4,
 "nbformat_minor": 2
}
