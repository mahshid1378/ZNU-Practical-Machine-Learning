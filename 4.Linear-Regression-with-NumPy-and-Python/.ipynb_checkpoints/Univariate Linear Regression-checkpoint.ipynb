{
 "cells": [
  {
   "cell_type": "markdown",
   "metadata": {},
   "source": [
    "<img src=\"https://rhyme.com/assets/img/logo-dark.png\" align=\"center\">"
   ]
  },
  {
   "cell_type": "markdown",
   "metadata": {},
   "source": [
    "<h2 align=\"center\"> Linear Regression </h2>"
   ]
  },
  {
   "cell_type": "markdown",
   "metadata": {},
   "source": [
    " "
   ]
  },
  {
   "cell_type": "markdown",
   "metadata": {},
   "source": [
    "### Task 2: Load the Data and Libraries\n",
    "---"
   ]
  },
  {
   "cell_type": "code",
   "execution_count": null,
   "metadata": {},
   "outputs": [],
   "source": [
    "import matplotlib.pyplot as plt \n",
    "import seaborn as sns\n",
    "import pandas as pd\n",
    "import numpy as np\n",
    "import sklearn as sk "
   ]
  },
  {
   "cell_type": "markdown",
   "metadata": {},
   "source": [
    "## Load and Visualize the dataset\n",
    "- \"bmi_and_life_expectancy.csv\" file\n",
    "* Country – The country the person was born in.\n",
    "* Life expectancy – The average life expectancy at birth for a person in that country.\n",
    "* BMI – The mean BMI of males in that country."
   ]
  },
  {
   "cell_type": "code",
   "execution_count": null,
   "metadata": {},
   "outputs": [],
   "source": [
    "dataset = pd.read_csv('bmi_and_life_expectancy.csv', index_col=False)"
   ]
  },
  {
   "cell_type": "code",
   "execution_count": null,
   "metadata": {},
   "outputs": [],
   "source": [
    "dataset.head()"
   ]
  },
  {
   "cell_type": "code",
   "execution_count": null,
   "metadata": {},
   "outputs": [],
   "source": [
    "dataset = dataset.dropna()"
   ]
  },
  {
   "cell_type": "code",
   "execution_count": null,
   "metadata": {},
   "outputs": [],
   "source": [
    "from sklearn.preprocessing import normalize\n"
   ]
  },
  {
   "cell_type": "code",
   "execution_count": null,
   "metadata": {},
   "outputs": [],
   "source": [
    "X_train = dataset['BMI']\n",
    "y_train = dataset['Life_Expectancy']"
   ]
  },
  {
   "cell_type": "code",
   "execution_count": null,
   "metadata": {},
   "outputs": [],
   "source": []
  },
  {
   "cell_type": "markdown",
   "metadata": {},
   "source": [
    " "
   ]
  },
  {
   "cell_type": "code",
   "execution_count": null,
   "metadata": {},
   "outputs": [],
   "source": [
    "dataset.plot(x=\"BMI\", y=\"Life_Expectancy\", kind=\"scatter\", figsize=(8,6))"
   ]
  },
  {
   "cell_type": "code",
   "execution_count": null,
   "metadata": {},
   "outputs": [],
   "source": [
    "plt.scatter(X_train, y_train, color='blue', edgecolor='k')\n",
    "plt.xlabel('BMI')\n",
    "plt.ylabel('Life expectancy')\n",
    "plt.show()\n"
   ]
  },
  {
   "cell_type": "markdown",
   "metadata": {},
   "source": [
    " "
   ]
  },
  {
   "cell_type": "markdown",
   "metadata": {},
   "source": [
    " "
   ]
  },
  {
   "cell_type": "markdown",
   "metadata": {},
   "source": [
    "### Task 4: Compute the Cost $J(\\theta)$\n",
    "---"
   ]
  },
  {
   "cell_type": "markdown",
   "metadata": {},
   "source": [
    "The objective of linear regression is to minimize the cost function\n",
    "\n",
    "$$J(\\theta) = \\frac{1}{2m} \\sum_{i=1}^m (h_\\theta(x^{(i)}) - y^{(i)} )^2$$\n",
    "\n",
    "where $h_{\\theta}(x)$ is the hypothesis and given by the linear model\n",
    "\n",
    "$$h_{\\theta}(x) = \\theta^Tx = \\theta_0 + \\theta_1x_1$$"
   ]
  },
  {
   "cell_type": "code",
   "execution_count": null,
   "metadata": {},
   "outputs": [],
   "source": [
    "def CostFunction(X, y, theta):\n",
    "    m = len(y)\n",
    "    yPred = X.dot(theta)\n",
    "    error = (yPred - y)**2\n",
    "    return 1/(2*m)*np.sum(error)"
   ]
  },
  {
   "cell_type": "code",
   "execution_count": null,
   "metadata": {},
   "outputs": [],
   "source": [
    "m = dataset.BMI.values.size # 163\n",
    "X = np.append(np.ones((m, 1)), dataset.BMI.values.reshape(m, 1), axis = 1)\n",
    "\n",
    "y = dataset.Life_Expectancy.values.reshape(m, 1)\n",
    "\n"
   ]
  },
  {
   "cell_type": "code",
   "execution_count": null,
   "metadata": {},
   "outputs": [],
   "source": [
    "theta = np.zeros((2,1))\n"
   ]
  },
  {
   "cell_type": "code",
   "execution_count": null,
   "metadata": {},
   "outputs": [],
   "source": [
    "theta"
   ]
  },
  {
   "cell_type": "code",
   "execution_count": null,
   "metadata": {},
   "outputs": [],
   "source": [
    "X_tr =  normalize(X)\n",
    "y_train2 = normalize(y)"
   ]
  },
  {
   "cell_type": "code",
   "execution_count": null,
   "metadata": {},
   "outputs": [],
   "source": [
    "for i in X_tr:\n",
    "    print(i)"
   ]
  },
  {
   "cell_type": "code",
   "execution_count": null,
   "metadata": {},
   "outputs": [],
   "source": [
    "print(CostFunction(X_tr, y_train2, theta))"
   ]
  },
  {
   "cell_type": "markdown",
   "metadata": {},
   "source": [
    " "
   ]
  },
  {
   "cell_type": "markdown",
   "metadata": {},
   "source": [
    "### Task 5: Gradient Descent\n",
    "---"
   ]
  },
  {
   "cell_type": "markdown",
   "metadata": {},
   "source": [
    "Minimize the cost function $J(\\theta)$ by updating the below equation and repeat unitil convergence\n",
    "        \n",
    "$\\theta_j := \\theta_j - \\alpha \\frac{1}{m} \\sum_{i=1}^m (h_{\\theta}(x^{(i)}) - y^{(i)})x_j^{(i)}$ (simultaneously update $\\theta_j$ for all $j$)."
   ]
  },
  {
   "cell_type": "code",
   "execution_count": null,
   "metadata": {},
   "outputs": [],
   "source": [
    "def GradientDescent(X, y, theta, alpha, iteractions):\n",
    "    m = len(y)\n",
    "    costs = []\n",
    "    for i in range(iteractions):\n",
    "        yPred = X.dot(theta)\n",
    "        error = np.dot(X.transpose(), (yPred - y))\n",
    "        theta -= alpha*(1/m)*error\n",
    "        costs.append(CostFunction(X, y, theta))\n",
    "    return theta, costs"
   ]
  },
  {
   "cell_type": "code",
   "execution_count": null,
   "metadata": {},
   "outputs": [],
   "source": [
    "theta, costs = GradientDescent(X_tr, y_train2, theta, alpha = 0.01, iteractions = 20)\n",
    "\n",
    "print('h(x) = {} + {}x1'.format(str(round(theta[0, 0], 2)),\n",
    "                                str(round(theta[1, 0], 2))))"
   ]
  },
  {
   "cell_type": "code",
   "execution_count": null,
   "metadata": {},
   "outputs": [],
   "source": [
    "costs[-1]"
   ]
  },
  {
   "cell_type": "markdown",
   "metadata": {},
   "source": [
    "### Task 6: Visualising the Cost Function $J(\\theta)$\n",
    "---"
   ]
  },
  {
   "cell_type": "code",
   "execution_count": null,
   "metadata": {},
   "outputs": [],
   "source": [
    "from mpl_toolkits.mplot3d import Axes3D"
   ]
  },
  {
   "cell_type": "code",
   "execution_count": null,
   "metadata": {},
   "outputs": [],
   "source": [
    "theta0 = np.linspace(-10, 10, 100)\n",
    "theta1 = np.linspace(-1, 4, 100)\n",
    "\n",
    "costValues = np.zeros((len(theta0),len(theta1)))\n",
    "\n",
    "for i in range(len(theta0)):\n",
    "    for j in range(len(theta1)):\n",
    "        t = np.array([theta0[i], theta1[j]])\n",
    "        costValues[i, j] = CostFunction(X_tr, y_train2, t)"
   ]
  },
  {
   "cell_type": "code",
   "execution_count": null,
   "metadata": {},
   "outputs": [],
   "source": [
    "fig = plt.figure(figsize = (14, 9))\n",
    "ax = fig.gca(projection = '3d')\n",
    "\n",
    "surf = ax.plot_surface(theta0, theta1, costValues, cmap = 'viridis')\n",
    "\n",
    "fig.colorbar(surf, shrink = 1, aspect = 20)\n",
    "\n",
    "ax.set_xlabel('$\\Theta_0$', color = 'b')\n",
    "ax.set_ylabel('$\\Theta_1$', color = 'b')\n",
    "ax.set_zlabel('$J(\\Theta)$', color = 'b')\n",
    "\n",
    "#ax.view_init(35, 32)\n",
    "\n",
    "plt.show()"
   ]
  },
  {
   "cell_type": "markdown",
   "metadata": {},
   "source": [
    " "
   ]
  },
  {
   "cell_type": "markdown",
   "metadata": {},
   "source": [
    "### Task 7: Plotting the Convergence\n",
    "---"
   ]
  },
  {
   "cell_type": "markdown",
   "metadata": {},
   "source": [
    "Plot $J(\\theta)$ against the number of iterations of gradient descent:"
   ]
  },
  {
   "cell_type": "code",
   "execution_count": null,
   "metadata": {},
   "outputs": [],
   "source": [
    "plt.figure(figsize = (14, 9))\n",
    "plt.plot(costs, 'g')\n",
    "plt.grid(color = 'black', alpha = 3)\n",
    "plt.xlabel('$Iteractions$', fontsize = 15)\n",
    "plt.ylabel('$J(\\Theta)$', fontsize = 15)\n",
    "plt.title('Values of the Cost Function over Iteractions of Gradient Descent', fontsize = 18);"
   ]
  },
  {
   "cell_type": "markdown",
   "metadata": {},
   "source": [
    " "
   ]
  },
  {
   "cell_type": "markdown",
   "metadata": {},
   "source": [
    "### Task 8: Training Data with Linear Regression Fit\n",
    "---"
   ]
  },
  {
   "cell_type": "code",
   "execution_count": null,
   "metadata": {},
   "outputs": [],
   "source": [
    "theta.shape"
   ]
  },
  {
   "cell_type": "code",
   "execution_count": null,
   "metadata": {},
   "outputs": [],
   "source": [
    "theta"
   ]
  },
  {
   "cell_type": "code",
   "execution_count": null,
   "metadata": {},
   "outputs": [],
   "source": [
    "plt.figure(figsize = (14, 9))\n",
    "\n",
    "theta = np.squeeze(theta)\n",
    "sns.regplot(x = 'BMI', y = 'Life_Expectancy', color = 'g', data = dataset)\n",
    "\n",
    "xValue = [x for x in range(2,25)]\n",
    "yValue = [(x*theta[1] + theta[0]) for x in xValue]\n",
    "sns.lineplot(xValue, yValue)\n",
    "\n",
    "plt.grid(color = 'black', alpha = 0.3)\n",
    "plt.xlabel('$Population\\ in\\ 10000s$', fontsize = 15)\n",
    "plt.ylabel('Profit in $10,000s', fontsize = 15)\n",
    "plt.title('Linear Regression Fit', fontsize = 18);"
   ]
  },
  {
   "cell_type": "markdown",
   "metadata": {},
   "source": [
    "### Task 9: Inference using the optimized $\\theta$ values\n",
    "---"
   ]
  },
  {
   "cell_type": "markdown",
   "metadata": {},
   "source": [
    "$h_\\theta(x) = \\theta^Tx$"
   ]
  },
  {
   "cell_type": "code",
   "execution_count": null,
   "metadata": {},
   "outputs": [],
   "source": [
    "def Predict(x, theta):\n",
    "    yPred = np.dot(theta.transpose(), x)\n",
    "    return yPred"
   ]
  },
  {
   "cell_type": "code",
   "execution_count": null,
   "metadata": {},
   "outputs": [],
   "source": [
    "yPred1 = Predict(np.array([1, 4]), theta)*10000\n",
    "print('For a population of 40,000 people, the model predicts a profit of $' + str(round(yPred1, 0)))"
   ]
  },
  {
   "cell_type": "code",
   "execution_count": null,
   "metadata": {},
   "outputs": [],
   "source": [
    "yPred2 = Predict(np.array([1, 8.3]), theta)*10000\n",
    "print('For a population of 40,000 people, the model predicts a profit of $' + str(round(yPred2, 0)))"
   ]
  }
 ],
 "metadata": {
  "kernelspec": {
   "display_name": "Python 3",
   "language": "python",
   "name": "python3"
  },
  "language_info": {
   "codemirror_mode": {
    "name": "ipython",
    "version": 3
   },
   "file_extension": ".py",
   "mimetype": "text/x-python",
   "name": "python",
   "nbconvert_exporter": "python",
   "pygments_lexer": "ipython3",
   "version": "3.6.9"
  }
 },
 "nbformat": 4,
 "nbformat_minor": 2
}
