{
 "cells": [
  {
   "cell_type": "markdown",
   "metadata": {},
   "source": [
    "\n",
    "# Introduction to Numerical Computing with `Numpy`\n",
    "\n",
    "<img src=\"image/numpy-color-image.png\" width=\"800\" />"
   ]
  },
  {
   "cell_type": "markdown",
   "metadata": {},
   "source": [
    "### pip3 install `numpy`"
   ]
  },
  {
   "cell_type": "code",
   "execution_count": 1,
   "metadata": {},
   "outputs": [],
   "source": [
    "import numpy as np"
   ]
  },
  {
   "cell_type": "code",
   "execution_count": 2,
   "metadata": {},
   "outputs": [
    {
     "data": {
      "text/plain": [
       "'1.18.2'"
      ]
     },
     "execution_count": 2,
     "metadata": {},
     "output_type": "execute_result"
    }
   ],
   "source": [
    "np.__version__"
   ]
  },
  {
   "cell_type": "code",
   "execution_count": 3,
   "metadata": {},
   "outputs": [
    {
     "data": {
      "text/plain": [
       "array([0, 1, 2, 3])"
      ]
     },
     "execution_count": 3,
     "metadata": {},
     "output_type": "execute_result"
    }
   ],
   "source": [
    "arr = np.array([0, 1, 2, 3]) # One-dimensional array\n",
    "arr"
   ]
  },
  {
   "cell_type": "code",
   "execution_count": 4,
   "metadata": {},
   "outputs": [
    {
     "data": {
      "text/plain": [
       "dtype('int64')"
      ]
     },
     "execution_count": 4,
     "metadata": {},
     "output_type": "execute_result"
    }
   ],
   "source": [
    "# numeric \"type\" of Elements \n",
    "arr.dtype"
   ]
  },
  {
   "cell_type": "code",
   "execution_count": 5,
   "metadata": {},
   "outputs": [
    {
     "data": {
      "text/plain": [
       "array([1., 2., 3.])"
      ]
     },
     "execution_count": 5,
     "metadata": {},
     "output_type": "execute_result"
    }
   ],
   "source": [
    "# change array data type \n",
    "arr_dtype = np.array(\n",
    "            [1, 2, 3], \n",
    "            dtype= np.float64)\n",
    "arr_dtype\n"
   ]
  },
  {
   "cell_type": "code",
   "execution_count": 6,
   "metadata": {},
   "outputs": [
    {
     "data": {
      "text/plain": [
       "dtype('float64')"
      ]
     },
     "execution_count": 6,
     "metadata": {},
     "output_type": "execute_result"
    }
   ],
   "source": [
    "arr_dtype.dtype"
   ]
  },
  {
   "cell_type": "code",
   "execution_count": 7,
   "metadata": {},
   "outputs": [
    {
     "data": {
      "text/plain": [
       "numpy.ndarray"
      ]
     },
     "execution_count": 7,
     "metadata": {},
     "output_type": "execute_result"
    }
   ],
   "source": [
    "#checking the type \n",
    "type(arr)"
   ]
  },
  {
   "cell_type": "code",
   "execution_count": 8,
   "metadata": {},
   "outputs": [
    {
     "data": {
      "text/plain": [
       "(4,)"
      ]
     },
     "execution_count": 8,
     "metadata": {},
     "output_type": "execute_result"
    }
   ],
   "source": [
    "# shape array\n",
    "arr.shape"
   ]
  },
  {
   "cell_type": "code",
   "execution_count": 9,
   "metadata": {},
   "outputs": [
    {
     "data": {
      "text/plain": [
       "1"
      ]
     },
     "execution_count": 9,
     "metadata": {},
     "output_type": "execute_result"
    }
   ],
   "source": [
    "arr.ndim"
   ]
  },
  {
   "cell_type": "code",
   "execution_count": 10,
   "metadata": {},
   "outputs": [],
   "source": [
    "# Two-dimensional array\n",
    "arr_2d = np.array(\n",
    "        [[1, 2, 3],\n",
    "         [4, 5, 6]])"
   ]
  },
  {
   "cell_type": "markdown",
   "metadata": {},
   "source": [
    "<img src=\"image/numpy-matrix24.png\" width=\"300\" />"
   ]
  },
  {
   "cell_type": "code",
   "execution_count": 11,
   "metadata": {},
   "outputs": [
    {
     "name": "stdout",
     "output_type": "stream",
     "text": [
      "2D_array shape:  (2, 3)\n",
      "Number of rows:  2  Number of cols:  3\n",
      "Number of dimensions:  2\n"
     ]
    }
   ],
   "source": [
    "print(\"2D_array shape: \", arr_2d.shape)\n",
    "print(\"Number of rows: \", arr_2d.shape[0], \" Number of cols: \", arr_2d.shape[1])\n",
    "print(\"Number of dimensions: \", arr_2d.ndim)"
   ]
  },
  {
   "cell_type": "markdown",
   "metadata": {},
   "source": [
    "### `Indexing` array\n",
    "<img src=\"image/numpy-matrix-indexing.png\" width=\"600\" />"
   ]
  },
  {
   "cell_type": "code",
   "execution_count": 12,
   "metadata": {},
   "outputs": [
    {
     "name": "stdout",
     "output_type": "stream",
     "text": [
      "first row:  [1 2 3]\n"
     ]
    }
   ],
   "source": [
    "print(\"first row: \", arr_2d[0])\n"
   ]
  },
  {
   "cell_type": "code",
   "execution_count": 13,
   "metadata": {},
   "outputs": [
    {
     "name": "stdout",
     "output_type": "stream",
     "text": [
      "6\n"
     ]
    },
    {
     "data": {
      "text/plain": [
       "array([[ 1,  2,  3],\n",
       "       [ 4,  5, -6]])"
      ]
     },
     "execution_count": 13,
     "metadata": {},
     "output_type": "execute_result"
    }
   ],
   "source": [
    "# Get / Set Elements\n",
    "print(arr_2d[1 , 2]) # array[ row, column ]\n",
    "\n",
    "arr_2d[1, 2] = -6\n",
    "arr_2d"
   ]
  },
  {
   "cell_type": "code",
   "execution_count": 14,
   "metadata": {},
   "outputs": [
    {
     "name": "stdout",
     "output_type": "stream",
     "text": [
      "[2 3] \n",
      "\n",
      "[2 5] \n",
      "\n",
      "[4 5]\n"
     ]
    }
   ],
   "source": [
    "# Sclicing \n",
    "print(arr_2d[0 ,1:], \"\\n\")\n",
    "\n",
    "print(arr_2d[: ,1], \"\\n\" )\n",
    "\n",
    "print(arr_2d[1 ,0:2] )"
   ]
  },
  {
   "cell_type": "markdown",
   "metadata": {},
   "source": [
    "### `Reshaping` an array\n",
    "<img src=\"image/numpy-reshape.png\" width=\"700\"/>\n"
   ]
  },
  {
   "cell_type": "code",
   "execution_count": 60,
   "metadata": {},
   "outputs": [
    {
     "name": "stdout",
     "output_type": "stream",
     "text": [
      "[[ 1  2]\n",
      " [ 3  4]\n",
      " [ 5 -6]]\n"
     ]
    }
   ],
   "source": [
    "print(np.reshape(arr_2d, newshape=(3, 2))) # (2, 3) (1, 6) (6, 1) ---> arr_2d.size = 6"
   ]
  },
  {
   "cell_type": "code",
   "execution_count": 16,
   "metadata": {},
   "outputs": [
    {
     "data": {
      "text/plain": [
       "6"
      ]
     },
     "execution_count": 16,
     "metadata": {},
     "output_type": "execute_result"
    }
   ],
   "source": [
    "arr_2d.size"
   ]
  },
  {
   "cell_type": "code",
   "execution_count": 17,
   "metadata": {},
   "outputs": [
    {
     "name": "stdout",
     "output_type": "stream",
     "text": [
      "[[ 1  2  3  4  5 -6]]\n"
     ]
    }
   ],
   "source": [
    "print(np.reshape(arr_2d, (1, -1)))  # -1 means the number of columns will be determined automatically"
   ]
  },
  {
   "cell_type": "code",
   "execution_count": 18,
   "metadata": {},
   "outputs": [
    {
     "name": "stdout",
     "output_type": "stream",
     "text": [
      "[[ 1]\n",
      " [ 2]\n",
      " [ 3]\n",
      " [ 4]\n",
      " [ 5]\n",
      " [-6]]\n"
     ]
    }
   ],
   "source": [
    "print(np.reshape(arr_2d, (-1, 1)))   # -1 means the number of rows will be determined automatically"
   ]
  },
  {
   "cell_type": "markdown",
   "metadata": {},
   "source": [
    "### `Transposing` Array\n",
    "<img src=\"image/numpy-transpose.png\" width=\"500\" />"
   ]
  },
  {
   "cell_type": "code",
   "execution_count": 19,
   "metadata": {},
   "outputs": [
    {
     "name": "stdout",
     "output_type": "stream",
     "text": [
      "[[ 1  2  3]\n",
      " [ 4  5 -6]]\n",
      "\n",
      "[[ 1  4]\n",
      " [ 2  5]\n",
      " [ 3 -6]]\n"
     ]
    }
   ],
   "source": [
    "print(arr_2d)\n",
    "print()\n",
    "print(arr_2d.T)"
   ]
  },
  {
   "cell_type": "markdown",
   "metadata": {},
   "source": [
    "### np.arange()"
   ]
  },
  {
   "cell_type": "code",
   "execution_count": 20,
   "metadata": {
    "scrolled": true
   },
   "outputs": [
    {
     "name": "stdout",
     "output_type": "stream",
     "text": [
      "[ 1  3  5  7  9 11 13 15 17 19]\n"
     ]
    }
   ],
   "source": [
    "print(np.arange(1, 20, step=2))\n"
   ]
  },
  {
   "cell_type": "markdown",
   "metadata": {},
   "source": [
    "### Creating `specific` arrays\n",
    "- `np.zeros`\n",
    "- `np.ones`\n",
    "- `np.full`\n",
    "- `np.random.random`\n",
    "\n",
    "<img src=\"image/numpy-matrix-ones-zeros-random.png\" width=\"800\">"
   ]
  },
  {
   "cell_type": "code",
   "execution_count": 21,
   "metadata": {},
   "outputs": [
    {
     "name": "stdout",
     "output_type": "stream",
     "text": [
      "[[1. 1.]\n",
      " [1. 1.]\n",
      " [1. 1.]]\n"
     ]
    }
   ],
   "source": [
    "print(np.ones(shape=(3, 2)))"
   ]
  },
  {
   "cell_type": "code",
   "execution_count": 22,
   "metadata": {},
   "outputs": [
    {
     "name": "stdout",
     "output_type": "stream",
     "text": [
      "[[0. 0.]\n",
      " [0. 0.]\n",
      " [0. 0.]]\n"
     ]
    }
   ],
   "source": [
    "print(np.zeros(shape=(3, 2)))"
   ]
  },
  {
   "cell_type": "code",
   "execution_count": 23,
   "metadata": {},
   "outputs": [
    {
     "name": "stdout",
     "output_type": "stream",
     "text": [
      "[[7 7]\n",
      " [7 7]\n",
      " [7 7]]\n"
     ]
    }
   ],
   "source": [
    "print(np.full(shape=(3, 2), fill_value=7))"
   ]
  },
  {
   "cell_type": "markdown",
   "metadata": {},
   "source": [
    "### Creating `random` arrays\n"
   ]
  },
  {
   "cell_type": "code",
   "execution_count": 24,
   "metadata": {},
   "outputs": [
    {
     "name": "stdout",
     "output_type": "stream",
     "text": [
      "[[0.76767256 0.17242636]\n",
      " [0.50217204 0.40957205]\n",
      " [0.3549226  0.97899784]]\n"
     ]
    }
   ],
   "source": [
    "print(np.random.random(size=(3, 2)))"
   ]
  },
  {
   "cell_type": "code",
   "execution_count": 25,
   "metadata": {},
   "outputs": [
    {
     "name": "stdout",
     "output_type": "stream",
     "text": [
      "[[ 0.39666441  2.60410778 -0.31151685  1.53669666]\n",
      " [ 0.66288352  0.18553701 -0.14140482 -0.47223123]\n",
      " [-0.77263568  1.06867168 -1.28210444  0.40845824]]\n"
     ]
    }
   ],
   "source": [
    "print(np.random.randn(3, 4))"
   ]
  },
  {
   "cell_type": "markdown",
   "metadata": {},
   "source": [
    "<img src=\"image/Bell-Curve.png\" width=\"400\"/>"
   ]
  },
  {
   "cell_type": "markdown",
   "metadata": {},
   "source": [
    "### Operations on `numpy` arrays\n",
    "- `np.add`\n",
    "- `np.subtract`\n",
    "- `np.multiply`\n",
    "- `np.divide`\n",
    "- `np.sqrt`"
   ]
  },
  {
   "cell_type": "code",
   "execution_count": 26,
   "metadata": {},
   "outputs": [],
   "source": [
    "x = np.array(\n",
    "        [[2, 4], \n",
    "         [1, 5]])\n",
    "\n",
    "y = np.array(\n",
    "        [[6, 9],\n",
    "         [8, 3]])\n"
   ]
  },
  {
   "cell_type": "code",
   "execution_count": 27,
   "metadata": {},
   "outputs": [
    {
     "name": "stdout",
     "output_type": "stream",
     "text": [
      "Elementwise sum: \n",
      " [[ 8 13]\n",
      " [ 9  8]]\n",
      "\n",
      "Elementwise difference: \n",
      " [[-4 -5]\n",
      " [-7  2]]\n",
      "\n",
      "Elementwise product: \n",
      " [[12 36]\n",
      " [ 8 15]]\n",
      "\n",
      "Elementwise division: \n",
      " [[0.33333333 0.44444444]\n",
      " [0.125      1.66666667]]\n",
      "\n",
      "Elementwise square: \n",
      "  [[2.44948974 3.        ]\n",
      " [2.82842712 1.73205081]]\n"
     ]
    }
   ],
   "source": [
    "print(\"Elementwise sum: \\n\", np.add(x, y))\n",
    "print(\"\\nElementwise difference: \\n\", np.subtract(x, y))\n",
    "print(\"\\nElementwise product: \\n\", np.multiply(x, y))\n",
    "print(\"\\nElementwise division: \\n\", np.divide(x, y))\n",
    "print(\"\\nElementwise square: \\n \", np.sqrt(y))"
   ]
  },
  {
   "cell_type": "markdown",
   "metadata": {},
   "source": [
    "### Matrix multiplication in `numpy`\n"
   ]
  },
  {
   "cell_type": "code",
   "execution_count": 28,
   "metadata": {},
   "outputs": [
    {
     "name": "stdout",
     "output_type": "stream",
     "text": [
      "[[42 44]]\n",
      "[[42 44]]\n"
     ]
    }
   ],
   "source": [
    "x = np.array([[1, 2,3]])\n",
    "\n",
    "y = np.array(\n",
    "        [[4, 5],\n",
    "         [7, 6],\n",
    "         [8, 9]])\n",
    "\n",
    "print(x.dot(y))\n",
    "print(np.dot(x, y))"
   ]
  },
  {
   "cell_type": "markdown",
   "metadata": {},
   "source": [
    "<img src=\"image/numpy-matrix-dot-product-1.png\" width=\"650\" />"
   ]
  },
  {
   "cell_type": "markdown",
   "metadata": {},
   "source": [
    "### Mathematical and Statistical Function in `numpy`\n",
    "<img src=\"image/numpy-array-aggregation.png\" width=\"800\" />"
   ]
  },
  {
   "cell_type": "code",
   "execution_count": 29,
   "metadata": {},
   "outputs": [
    {
     "name": "stdout",
     "output_type": "stream",
     "text": [
      "max:  7\n",
      "min:  1\n",
      "sum:  15\n",
      "mean:  3.75\n",
      "std:  2.384848003542364\n",
      "var:  5.6875\n"
     ]
    }
   ],
   "source": [
    "x = np.array(\n",
    "        [[2, 5],\n",
    "         [1, 7]])\n",
    "\n",
    "\n",
    "print(\"max: \",x.max())\n",
    "print(\"min: \",x.min())\n",
    "print(\"sum: \",x.sum())\n",
    "print(\"mean: \",x.mean())\n",
    "print(\"std: \",x.std())\n",
    "print(\"var: \",x.var())"
   ]
  },
  {
   "cell_type": "markdown",
   "metadata": {},
   "source": [
    "### axis\n",
    "<img src=\"image/numpy-matrix-aggregation-4.png\" width=\"800\" />"
   ]
  },
  {
   "cell_type": "code",
   "execution_count": 30,
   "metadata": {},
   "outputs": [
    {
     "name": "stdout",
     "output_type": "stream",
     "text": [
      "axis = 0 :  [2 7]\n",
      "axis = 1 :  [5 7]\n"
     ]
    }
   ],
   "source": [
    "print(\"axis = 0 : \", x.max(axis=0))\n",
    "print(\"axis = 1 : \", x.max(axis=1))"
   ]
  },
  {
   "cell_type": "code",
   "execution_count": 31,
   "metadata": {},
   "outputs": [
    {
     "name": "stdout",
     "output_type": "stream",
     "text": [
      "axis = 0 :  [1.5 6. ]\n",
      "axis = 1 :  [7 8]\n"
     ]
    }
   ],
   "source": [
    "print(\"axis = 0 : \", x.mean(axis=0))\n",
    "print(\"axis = 1 : \", x.sum(axis=1))"
   ]
  },
  {
   "cell_type": "code",
   "execution_count": 32,
   "metadata": {},
   "outputs": [
    {
     "name": "stdout",
     "output_type": "stream",
     "text": [
      "[0.         0.69314718 1.09861229]\n",
      "3.0\n",
      "3.0\n"
     ]
    }
   ],
   "source": [
    "# logarithm of x\n",
    "print(np.log([1,2,3])) # base e\n",
    "print(np.log2(2**3))   # base 2\n",
    "print(np.log10(10**3)) # base 10"
   ]
  },
  {
   "cell_type": "code",
   "execution_count": 33,
   "metadata": {},
   "outputs": [
    {
     "name": "stdout",
     "output_type": "stream",
     "text": [
      "7.38905609893065 \n",
      "\n",
      "[[ 2.71828183  7.3890561 ]\n",
      " [20.08553692 54.59815003]]\n"
     ]
    }
   ],
   "source": [
    "# exponential ---> e^x = e^2\n",
    "print(np.exp(2),'\\n')\n",
    "print(np.exp([[1,2],[3,4]]))"
   ]
  },
  {
   "cell_type": "code",
   "execution_count": 34,
   "metadata": {},
   "outputs": [
    {
     "data": {
      "text/plain": [
       "array([1, 2, 3])"
      ]
     },
     "execution_count": 34,
     "metadata": {},
     "output_type": "execute_result"
    }
   ],
   "source": [
    "# absolute\n",
    "np.abs([-1, -2, -3])"
   ]
  },
  {
   "cell_type": "code",
   "execution_count": 35,
   "metadata": {},
   "outputs": [
    {
     "name": "stdout",
     "output_type": "stream",
     "text": [
      "2^3:  8 \n",
      "\n",
      "[100 400 900]\n"
     ]
    }
   ],
   "source": [
    "#power \n",
    "print(\"2^3: \", np.power(2,3),\"\\n\")\n",
    "\n",
    "print(np.power([10,20,30], 2))\n",
    "\n"
   ]
  },
  {
   "cell_type": "code",
   "execution_count": 36,
   "metadata": {},
   "outputs": [
    {
     "name": "stdout",
     "output_type": "stream",
     "text": [
      "indices of the minimum :  3\n",
      "indices of the maximum :  2\n"
     ]
    }
   ],
   "source": [
    "m = np.array([4, 5, 6, 1])\n",
    "print(\"indices of the minimum : \",np.argmin(m))\n",
    "print(\"indices of the maximum : \",np.argmax(m))"
   ]
  },
  {
   "cell_type": "code",
   "execution_count": 37,
   "metadata": {},
   "outputs": [
    {
     "name": "stdout",
     "output_type": "stream",
     "text": [
      "indices of the minimum :  [0 1 1 0]\n",
      "indices of the maximum :  [2 0]\n"
     ]
    }
   ],
   "source": [
    "n = np.array(\n",
    "            [[4, 5, 6, 1],\n",
    "            [8, 2, 5, 6]])\n",
    "print(\"indices of the minimum : \",np.argmin(n, axis=0))\n",
    "print(\"indices of the maximum : \",np.argmax(n, axis=1))"
   ]
  },
  {
   "cell_type": "markdown",
   "metadata": {},
   "source": [
    "### Array Broadcasting `numpy`"
   ]
  },
  {
   "cell_type": "code",
   "execution_count": 38,
   "metadata": {},
   "outputs": [
    {
     "data": {
      "text/plain": [
       "array([[2., 3.],\n",
       "       [4., 5.],\n",
       "       [6., 7.]])"
      ]
     },
     "execution_count": 38,
     "metadata": {},
     "output_type": "execute_result"
    }
   ],
   "source": [
    "data = np.array(\n",
    "                [[1, 2],\n",
    "                 [3, 4],\n",
    "                 [5, 6]])\n",
    "one_row = np.ones(shape=(2,))\n",
    "data = np.add(data, one_row)\n",
    "data"
   ]
  },
  {
   "cell_type": "markdown",
   "metadata": {},
   "source": [
    "<img src=\"image/numpy-matrix-broadcast.png\" width=\"700\" />"
   ]
  },
  {
   "cell_type": "markdown",
   "metadata": {},
   "source": [
    "### 3D Numpy Array"
   ]
  },
  {
   "cell_type": "code",
   "execution_count": 70,
   "metadata": {},
   "outputs": [
    {
     "data": {
      "text/plain": [
       "array([[[0.93699814, 0.96666329, 0.80119314, 0.21709243],\n",
       "        [0.05656135, 0.62003856, 0.40203426, 0.02808393],\n",
       "        [0.25221871, 0.51000991, 0.75889247, 0.74066343]],\n",
       "\n",
       "       [[0.12851187, 0.66810106, 0.86605795, 0.80091259],\n",
       "        [0.75754776, 0.98279532, 0.97434905, 0.65508282],\n",
       "        [0.41044399, 0.00868474, 0.29525291, 0.81783941]]])"
      ]
     },
     "execution_count": 70,
     "metadata": {},
     "output_type": "execute_result"
    }
   ],
   "source": [
    "np.random.random((2,3,4))"
   ]
  },
  {
   "cell_type": "markdown",
   "metadata": {},
   "source": [
    "<img src=\"image/3D-arrays.png\" width=\"500\" />"
   ]
  },
  {
   "cell_type": "markdown",
   "metadata": {},
   "source": [
    "### Resource \n",
    "    1. https://cs231n.github.io/python-numpy-tutorial/\n",
    "    2. https://realpython.com/tutorials/numpy/\n",
    "    3. The Basics of NumPy Arrays _ Python Data Science Handbook (Book)"
   ]
  },
  {
   "cell_type": "code",
   "execution_count": null,
   "metadata": {},
   "outputs": [],
   "source": []
  }
 ],
 "metadata": {
  "kernelspec": {
   "display_name": "Python 3",
   "language": "python",
   "name": "python3"
  },
  "language_info": {
   "codemirror_mode": {
    "name": "ipython",
    "version": 3
   },
   "file_extension": ".py",
   "mimetype": "text/x-python",
   "name": "python",
   "nbconvert_exporter": "python",
   "pygments_lexer": "ipython3",
   "version": "3.6.9"
  }
 },
 "nbformat": 4,
 "nbformat_minor": 2
}
